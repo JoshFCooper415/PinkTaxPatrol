{
 "cells": [
  {
   "cell_type": "code",
   "execution_count": 28,
   "metadata": {},
   "outputs": [
    {
     "name": "stdout",
     "output_type": "stream",
     "text": [
      "     Unit Count  true_price  Keyword\n",
      "630         1.0        7.24        1\n",
      "631         1.0        7.17        1\n",
      "632         1.0       15.47        0\n",
      "633         1.0       32.99        0\n",
      "634         1.0       15.38        0\n",
      "635         1.0        0.00        0\n",
      "636         1.0       27.36        0\n",
      "637         1.0       15.97        0\n",
      "638         1.0       12.44        0\n",
      "639         1.0        6.99        0\n",
      "640         1.0        7.98        0\n",
      "641         1.0       24.60        0\n",
      "642         1.0       30.58        0\n",
      "643         1.0       15.64        0\n",
      "644         1.0       44.99        0\n",
      "645         1.0       24.42        0\n",
      "646         1.0        0.00        0\n",
      "647         1.0       15.64        0\n",
      "648         1.0       19.39        0\n",
      "649         1.0       20.02        0\n",
      "650         1.0       19.99        0\n",
      "651         1.0        0.00        0\n",
      "652         1.0        0.00        0\n",
      "653         1.0        0.00        0\n",
      "654         1.0        0.00        0\n",
      "655         1.0       14.26        0\n",
      "656         1.0        0.00        0\n",
      "657         1.0      101.74        0\n",
      "658         1.0       47.72        0\n",
      "659         1.0        0.00        0\n",
      "660         1.0       31.25        0\n",
      "661         1.0       28.97        0\n",
      "662         1.0       15.38        0\n",
      "663         1.0       15.79        0\n",
      "664         1.0       15.97        0\n",
      "665         1.0       19.47        0\n",
      "666         1.0       15.47        0\n",
      "667         1.0       10.00        0\n",
      "668         1.0       29.99        0\n",
      "669         1.0       14.97        0\n",
      "670         1.0        0.00        0\n",
      "671         1.0        7.98        0\n",
      "672         1.0        8.38        0\n",
      "673         1.0       15.93        0\n",
      "674         1.0       10.31        0\n",
      "675         1.0       19.99        0\n",
      "676         1.0       19.99        0\n",
      "677         1.0       19.79        0\n",
      "678         1.0       15.97        0\n",
      "679         1.0       18.78        0\n",
      "Index(['Keyword', 'Manufacturer', 'Unit Count', 'true_price'], dtype='object')\n"
     ]
    },
    {
     "name": "stderr",
     "output_type": "stream",
     "text": [
      "C:\\Users\\joshf\\AppData\\Local\\Temp\\ipykernel_35160\\1686467520.py:29: FutureWarning: Downcasting behavior in `replace` is deprecated and will be removed in a future version. To retain the old behavior, explicitly call `result.infer_objects(copy=False)`. To opt-in to the future behavior, set `pd.set_option('future.no_silent_downcasting', True)`\n",
      "  df['Keyword'] = df['Keyword'].replace({'men': 0, 'women': 1, 'missing': -1})  # Assuming 'missing' as -1 or another category\n"
     ]
    }
   ],
   "source": [
    "import pandas as pd\n",
    "from sklearn.model_selection import train_test_split\n",
    "from sklearn.metrics import accuracy_score\n",
    "import xgboost as xgb\n",
    "from xgboost import XGBRFClassifier\n",
    "from sklearn.preprocessing import StandardScaler\n",
    "from sklearn.cluster import KMeans\n",
    "from sklearn.feature_extraction.text import CountVectorizer\n",
    "\n",
    "# Load the data\n",
    "df = pd.read_csv('amazon_products_via_rainforest_api.csv')\n",
    "df2 = pd.read_csv('amazon_products_via_rainforest_api2.csv')\n",
    "# Display the first few rows of the dataframe\n",
    "df = pd.concat([df,df2], axis=0)\n",
    "#vectorizer = CountVectorizer(binary=True)\n",
    "\n",
    "# Fit and transform the product names\n",
    "#X = vectorizer.fit_transform(df['Product Name']).toarray()\n",
    "\n",
    "# Create a DataFrame with the one-hot encoded features\n",
    "#df_one_hot = pd.DataFrame(X, columns=vectorizer.get_feature_names_out(), index=df.index)\n",
    "\n",
    "# Concatenate the original DataFrame with the new one-hot encoded DataFrame\n",
    "#df = pd.concat([df, df_one_hot], axis=1)\n",
    "df.fillna(0, inplace=True)\n",
    "df = df.drop(['ASIN'],axis=1)\n",
    "df['Unit Count'] = df['Unit Count'].replace(0, 1)  # Replace 0 units with 1 to avoid division by zero\n",
    "df['true_price'] = df['Price'] / df['Unit Count']\n",
    "df['Keyword'] = df['Keyword'].replace({'men': 0, 'women': 1, 'missing': -1})  # Assuming 'missing' as -1 or another category\n",
    "df = df.drop(['Price','Product Name'], axis =1)\n",
    "df = df.drop(['Category','Number of Reviews','Average Review Score'], axis=1)\n",
    "# Display the updated DataFrame\n",
    "print(df[['Unit Count', 'true_price', 'Keyword']].tail(50))\n",
    "\n",
    "print(df.columns)"
   ]
  },
  {
   "cell_type": "code",
   "execution_count": 30,
   "metadata": {},
   "outputs": [
    {
     "name": "stdout",
     "output_type": "stream",
     "text": [
      "     Keyword  Manufacturer  Unit Count  true_price  Cluster\n",
      "0          1           0.0         1.0        0.10        1\n",
      "1          1           0.0         1.0        0.98        1\n",
      "2          1           0.0         1.0        0.99        1\n",
      "3          1           0.0         1.0        0.00        1\n",
      "4          1           0.0         1.0        1.46        1\n",
      "..       ...           ...         ...         ...      ...\n",
      "675        0           0.0         1.0       19.99        0\n",
      "676        0           0.0         1.0       19.99        0\n",
      "677        0           0.0         1.0       19.79        0\n",
      "678        0           0.0         1.0       15.97        0\n",
      "679        0           0.0         1.0       18.78        0\n",
      "\n",
      "[1368 rows x 5 columns]\n"
     ]
    }
   ],
   "source": [
    "scaler = StandardScaler()\n",
    "scaled_df = scaler.fit_transform(df)\n",
    "\n",
    "# Choose the number of clusters (k) and apply k-means clustering\n",
    "k = 2  # Example number of clusters\n",
    "kmeans = KMeans(n_clusters=k, random_state=0).fit(scaled_df)\n",
    "\n",
    "# Add the cluster labels to your original DataFrame\n",
    "df['Cluster'] = kmeans.labels_\n",
    "\n",
    "print(df)\n"
   ]
  },
  {
   "cell_type": "code",
   "execution_count": 31,
   "metadata": {},
   "outputs": [
    {
     "name": "stdout",
     "output_type": "stream",
     "text": [
      "Numeric features most correlated with 'Cluster' (sorted by significance):\n",
      "Keyword: p-value = 0.0000\n",
      "Manufacturer: p-value = nan\n",
      "Unit Count: p-value = nan\n",
      "true_price: p-value = 0.0013\n"
     ]
    },
    {
     "name": "stderr",
     "output_type": "stream",
     "text": [
      "C:\\Users\\joshf\\AppData\\Local\\Temp\\ipykernel_35160\\3977557979.py:13: ConstantInputWarning: Each of the input arrays is constant; the F statistic is not defined or infinite\n",
      "  F_statistic, p_value = f_oneway(*groups)\n"
     ]
    }
   ],
   "source": [
    "import pandas as pd\n",
    "from scipy.stats import f_oneway\n",
    "\n",
    "# Assuming `df` is your DataFrame and 'Cluster' contains the cluster labels\n",
    "features = df.columns.drop('Cluster')  # Adjust if there are other non-feature columns\n",
    "\n",
    "# For storing ANOVA results\n",
    "anova_results = {}\n",
    "\n",
    "for feature in features:\n",
    "    if df[feature].dtype == 'float64' or df[feature].dtype == 'int64':  # Adjust as necessary\n",
    "        groups = [df[df['Cluster'] == cluster][feature] for cluster in df['Cluster'].unique()]\n",
    "        F_statistic, p_value = f_oneway(*groups)\n",
    "        anova_results[feature] = p_value\n",
    "\n",
    "# Sort features by significance (lower p-value means more significant)\n",
    "sorted_features = sorted(anova_results, key=anova_results.get)\n",
    "if sorted_features:  # Ensure there are numeric features processed\n",
    "    print(\"Numeric features most correlated with 'Cluster' (sorted by significance):\")\n",
    "    for feature in sorted_features[:10]:  # Adjust the number to display as needed\n",
    "        print(f\"{feature}: p-value = {anova_results[feature]:.4f}\")"
   ]
  },
  {
   "cell_type": "code",
   "execution_count": 32,
   "metadata": {},
   "outputs": [
    {
     "data": {
      "text/plain": [
       "['Keyword', 'Manufacturer', 'Unit Count', 'true_price']"
      ]
     },
     "execution_count": 32,
     "metadata": {},
     "output_type": "execute_result"
    }
   ],
   "source": [
    "sorted_features"
   ]
  },
  {
   "cell_type": "code",
   "execution_count": 209,
   "metadata": {},
   "outputs": [
    {
     "name": "stdout",
     "output_type": "stream",
     "text": [
      "0.297409\n"
     ]
    }
   ],
   "source": []
  },
  {
   "cell_type": "code",
   "execution_count": 38,
   "metadata": {},
   "outputs": [
    {
     "data": {
      "image/png": "[encoded data removed]",
      "text/plain": [
       "<Figure size 800x600 with 1 Axes>"
      ]
     },
     "metadata": {},
     "output_type": "display_data"
    }
   ],
   "source": [
    "import matplotlib.pyplot as plt\n",
    "plt.figure(figsize=(8, 6))\n",
    "for cluster in df['Cluster'].unique():\n",
    "    cluster_group = df[df['Cluster'] == cluster]\n",
    "    plt.scatter(cluster_group['Keyword'], cluster_group['true_price'], label=f'Cluster {cluster}')\n",
    "plt.title('K-Means Clustering')\n",
    "plt.xlabel('Feature1')\n",
    "plt.ylabel('Feature2')\n",
    "plt.legend()\n",
    "plt.grid(True)\n",
    "plt.show()"
   ]
  }
 ],
 "metadata": {
  "kernelspec": {
   "display_name": "Python 3",
   "language": "python",
   "name": "python3"
  },
  "language_info": {
   "codemirror_mode": {
    "name": "ipython",
    "version": 3
   },
   "file_extension": ".py",
   "mimetype": "text/x-python",
   "name": "python",
   "nbconvert_exporter": "python",
   "pygments_lexer": "ipython3",
   "version": "3.12.0"
  }
 },
 "nbformat": 4,
 "nbformat_minor": 2
}
